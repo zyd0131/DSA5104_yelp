{
 "cells": [
  {
   "cell_type": "code",
   "execution_count": null,
   "metadata": {
    "collapsed": true
   },
   "outputs": [],
   "source": [
    "input_text = \"\"\"\n",
    "This is line 1.\n",
    "This is line 2.\n",
    "This is line 3.\n",
    "And so on.\n",
    "\"\"\"\n",
    "\n",
    "# Split the text into lines\n",
    "lines = input_text.split('\\n')\n",
    "\n",
    "# Add double quotes around each line\n",
    "quoted_lines = ['\"{}\"'.format(line) for line in lines]\n",
    "\n",
    "# Join the lines back together\n",
    "output_text = '\\n'.join(quoted_lines)\n",
    "\n",
    "print(output_text)"
   ]
  },
  {
   "cell_type": "code",
   "execution_count": null,
   "outputs": [],
   "source": [
    "print(\"hello\")"
   ],
   "metadata": {
    "collapsed": false,
    "pycharm": {
     "name": "#%%\n"
    }
   }
  }
 ],
 "metadata": {
  "kernelspec": {
   "display_name": "Python 3",
   "language": "python",
   "name": "python3"
  },
  "language_info": {
   "codemirror_mode": {
    "name": "ipython",
    "version": 2
   },
   "file_extension": ".py",
   "mimetype": "text/x-python",
   "name": "python",
   "nbconvert_exporter": "python",
   "pygments_lexer": "ipython2",
   "version": "2.7.6"
  }
 },
 "nbformat": 4,
 "nbformat_minor": 0
}